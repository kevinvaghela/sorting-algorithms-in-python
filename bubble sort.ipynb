{
 "cells": [
  {
   "cell_type": "markdown",
   "metadata": {},
   "source": [
    "# Bubble Sort"
   ]
  },
  {
   "cell_type": "markdown",
   "metadata": {},
   "source": [
    "#### BUBBLESORT( numList, n)\n",
    "#### Step 1: SET i = 0\n",
    "#### Step 2: WHILE i< n REPEAT STEPS 3 to 8\n",
    "#### Step 3: SET j = 0\n",
    "#### Step 4: WHILE j< n-i-1,REPEAT STEPS 5 to 7\n",
    "#### Step 5: IF numList[j] > numList[j+1] THEN\n",
    "#### Step 6: swap(numList[j],numList[j+1])\n",
    "#### Step 7: SET j=j+1\n",
    "#### Step 8: SET i=i+1"
   ]
  },
  {
   "cell_type": "code",
   "execution_count": 26,
   "metadata": {},
   "outputs": [],
   "source": [
    "1. \n",
    "\n",
    "list = [34,12,73,23,15,74,44]\n",
    "\n",
    "def bubblesort(list):\n",
    "    \n",
    "     for iter_num in range(len(list)-1, 0, -1):\n",
    "        for idx in range(iter_num):\n",
    "            if list[idx] > list[idx+1]:\n",
    "                temp = list[idx]\n",
    "                list[idx] = list[idx+1]\n",
    "                list[idx+1] = temp\n",
    "                \n",
    "bubblesort(list)"
   ]
  },
  {
   "cell_type": "code",
   "execution_count": 27,
   "metadata": {},
   "outputs": [
    {
     "name": "stdout",
     "output_type": "stream",
     "text": [
      "[12, 15, 23, 34, 44, 73, 74]\n"
     ]
    }
   ],
   "source": [
    "print(list)"
   ]
  },
  {
   "cell_type": "code",
   "execution_count": 8,
   "metadata": {},
   "outputs": [],
   "source": [
    "2.\n",
    "\n",
    "def bubble_sort(array):\n",
    "    n = len(array)\n",
    "\n",
    "    for i in range(n):\n",
    "        # Create a flag that will allow the function to\n",
    "        # terminate early if there's nothing left to sort\n",
    "        already_sorted = True\n",
    "\n",
    "        # Start looking at each item of the list one by one,\n",
    "        # comparing it with its adjacent value. With each\n",
    "        # iteration, the portion of the array that you look at\n",
    "        # shrinks because the remaining items have already been\n",
    "        # sorted.\n",
    "        for j in range(n - i - 1):\n",
    "            if array[j] > array[j + 1]:\n",
    "                # If the item you're looking at is greater than its\n",
    "                # adjacent value, then swap them\n",
    "                array[j], array[j + 1] = array[j + 1], array[j]\n",
    "\n",
    "                # Since you had to swap two elements,\n",
    "                # set the `already_sorted` flag to `False` so the\n",
    "                # algorithm doesn't finish prematurely\n",
    "                already_sorted = False\n",
    "\n",
    "        # If there were no swaps during the last iteration,\n",
    "        # the array is already sorted, and you can terminate\n",
    "        if already_sorted:\n",
    "            break\n",
    "\n",
    "    return array"
   ]
  },
  {
   "cell_type": "code",
   "execution_count": 9,
   "metadata": {},
   "outputs": [
    {
     "data": {
      "text/plain": [
       "[12, 15, 23, 34, 44, 73, 74]"
      ]
     },
     "execution_count": 9,
     "metadata": {},
     "output_type": "execute_result"
    }
   ],
   "source": [
    "list = [34,12,73,23,15,74,44]\n",
    "bubble_sort(list)"
   ]
  },
  {
   "cell_type": "code",
   "execution_count": 84,
   "metadata": {},
   "outputs": [],
   "source": [
    "3.\n",
    "\n",
    "def bubble_Sort(list1):\n",
    "    n = len(list1)\n",
    "    for i in range(n): # Number of passes\n",
    "        for j in range(0, n-i-1):\n",
    "        # size -i-1 because last i elements are already sorted\n",
    "        #in previous passes    \n",
    "            if list1[j] > list1[j+1]:\n",
    "            # Swap element at jth position with (j+1)th position    \n",
    "                list1[j], list1[j+1] = list1[j+1], list1[j]\n"
   ]
  },
  {
   "cell_type": "code",
   "execution_count": 85,
   "metadata": {},
   "outputs": [
    {
     "name": "stdout",
     "output_type": "stream",
     "text": [
      "The sorted list is :\n",
      "-9 1 4 7 8 13 "
     ]
    }
   ],
   "source": [
    "numList = [8, 7, 13, 1, -9, 4]\n",
    "bubble_Sort(numList)\n",
    "print(\"The sorted list is :\")\n",
    "for i in range(len(numList)):\n",
    "    print((numList[i]), end=\" \")"
   ]
  },
  {
   "cell_type": "markdown",
   "metadata": {},
   "source": [
    "## sorting in descending order (BUBBLE SORT)"
   ]
  },
  {
   "cell_type": "code",
   "execution_count": 88,
   "metadata": {},
   "outputs": [],
   "source": [
    "def bubble_Sort(list1):\n",
    "    n = len(list1)\n",
    "    for i in range(n): # Number of passes\n",
    "        for j in range(0, n-i-1):\n",
    "            #print(n-i-1)\n",
    "        # size -i-1 because last i elements are already sorted\n",
    "        #in previous passes    \n",
    "            if list1[j] < list1[j+1] :\n",
    "            # Swap element at jth position with (j+1)th position    \n",
    "                list1[j], list1[j+1] = list1[j+1], list1[j]"
   ]
  },
  {
   "cell_type": "code",
   "execution_count": 89,
   "metadata": {},
   "outputs": [
    {
     "name": "stdout",
     "output_type": "stream",
     "text": [
      "The sorted list is :\n",
      "13 8 7 4 1 -9 "
     ]
    }
   ],
   "source": [
    "numList = [8, 7, 13, 1, -9, 4]\n",
    "bubble_Sort(numList)\n",
    "print(\"The sorted list is :\")\n",
    "for i in range(len(numList)):\n",
    "    print((numList[i]), end=\" \")"
   ]
  },
  {
   "cell_type": "code",
   "execution_count": 121,
   "metadata": {},
   "outputs": [],
   "source": [
    "mylist = [43,12,546,-3,53,13]\n",
    "n = len(mylist)\n",
    "\n",
    "def bubble(mylist):\n",
    "    \n",
    "    iter = 0\n",
    "    for i in range(n):\n",
    "        for j in range(0, n-i-1):\n",
    "            iter += 1\n",
    "            if mylist[j] > mylist[j+1]:\n",
    "                mylist[j], mylist[j+1] = mylist[j+1], mylist[j]\n",
    "    print(f\"iteration = {iter}\")           \n",
    "    return mylist"
   ]
  },
  {
   "cell_type": "code",
   "execution_count": 122,
   "metadata": {},
   "outputs": [
    {
     "name": "stdout",
     "output_type": "stream",
     "text": [
      "iteration = 15\n"
     ]
    },
    {
     "data": {
      "text/plain": [
       "[-3, 12, 13, 43, 53, 546]"
      ]
     },
     "execution_count": 122,
     "metadata": {},
     "output_type": "execute_result"
    }
   ],
   "source": [
    "bubble(mylist)"
   ]
  },
  {
   "cell_type": "code",
   "execution_count": 129,
   "metadata": {},
   "outputs": [],
   "source": [
    "mylist1 = [46,25,74,12,6678,213,-3]\n",
    "n = len(mylist1)\n",
    "\n",
    "def bubblesort(mylist1):\n",
    "    \n",
    "    for i in range(n):\n",
    "        for j in range(n-i-1):\n",
    "            if mylist1[j] >mylist1[j+1]:\n",
    "                mylist1[j], mylist1[j+1] = mylist1[j+1], mylist1[j]\n",
    "        print(mylist1)\n",
    "                \n",
    "    return mylist1"
   ]
  },
  {
   "cell_type": "code",
   "execution_count": 130,
   "metadata": {},
   "outputs": [
    {
     "name": "stdout",
     "output_type": "stream",
     "text": [
      "[25, 46, 12, 74, 213, -3, 6678]\n",
      "[25, 12, 46, 74, -3, 213, 6678]\n",
      "[12, 25, 46, -3, 74, 213, 6678]\n",
      "[12, 25, -3, 46, 74, 213, 6678]\n",
      "[12, -3, 25, 46, 74, 213, 6678]\n",
      "[-3, 12, 25, 46, 74, 213, 6678]\n",
      "[-3, 12, 25, 46, 74, 213, 6678]\n"
     ]
    },
    {
     "data": {
      "text/plain": [
       "[-3, 12, 25, 46, 74, 213, 6678]"
      ]
     },
     "execution_count": 130,
     "metadata": {},
     "output_type": "execute_result"
    }
   ],
   "source": [
    "bubblesort(mylist1)"
   ]
  }
 ],
 "metadata": {
  "kernelspec": {
   "display_name": "Python 3",
   "language": "python",
   "name": "python3"
  },
  "language_info": {
   "codemirror_mode": {
    "name": "ipython",
    "version": 3
   },
   "file_extension": ".py",
   "mimetype": "text/x-python",
   "name": "python",
   "nbconvert_exporter": "python",
   "pygments_lexer": "ipython3",
   "version": "3.8.3"
  }
 },
 "nbformat": 4,
 "nbformat_minor": 4
}
